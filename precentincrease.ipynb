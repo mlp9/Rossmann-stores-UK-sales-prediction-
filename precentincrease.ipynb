{
 "cells": [
  {
   "cell_type": "code",
   "execution_count": 81,
   "metadata": {},
   "outputs": [
    {
     "name": "stderr",
     "output_type": "stream",
     "text": [
      "e:\\anacondasoftware\\lib\\site-packages\\IPython\\core\\interactiveshell.py:2728: DtypeWarning: Columns (7) have mixed types. Specify dtype option on import or set low_memory=False.\n",
      "  interactivity=interactivity, compiler=compiler, result=result)\n"
     ]
    },
    {
     "data": {
      "text/plain": [
       "['traindatapkl.pkl']"
      ]
     },
     "execution_count": 81,
     "metadata": {},
     "output_type": "execute_result"
    }
   ],
   "source": [
    "from sklearn.externals import joblib\n",
    "data=pd.read_csv(\"train.csv\")\n",
    "data=data.loc[:,['Date','Sales',\"Store\"]]\n",
    "\n",
    "joblib.dump(data,\"traindatapkl.pkl\")"
   ]
  },
  {
   "cell_type": "code",
   "execution_count": 79,
   "metadata": {},
   "outputs": [
    {
     "data": {
      "text/plain": [
       "<Container object of 3 artists>"
      ]
     },
     "execution_count": 79,
     "metadata": {},
     "output_type": "execute_result"
    },
    {
     "data": {
      "image/png": "[encoded data removed]",
      "text/plain": [
       "<matplotlib.figure.Figure at 0x2c3854b4cf8>"
      ]
     },
     "metadata": {
      "needs_background": "light"
     },
     "output_type": "display_data"
    }
   ],
   "source": [
    "import matplotlib.pyplot as plt\n",
    "import matplotlib.animation as animation\n",
    "import pandas as pd\n",
    "data=joblib.load(\"traindata.pkl\")\n",
    "data=data.loc[:,['Date','Sales',\"Store\"]]\n",
    "store=1\n",
    "month=4\n",
    "def converttoformat(var):\n",
    "    ln=len(str(var))\n",
    "    if(ln==1):\n",
    "        var17=\"-0\"+str(var)+\"-2017\"\n",
    "        var16=\"-0\"+str(var)+\"-2016\"\n",
    "    else: \n",
    "        var17=\"-\"+str(var)+\"-2017\"\n",
    "        var16=\"-\"+str(var)+\"-2016\"\n",
    "        \n",
    "    return var17,var16\n",
    "\n",
    "variable17,variable16=converttoformat(month)\n",
    "\n",
    "data17=data.loc[(data['Date'].str.contains(variable)) & (data['Store']==store)]\n",
    "data16=data.loc[(data['Date'].str.contains(variable16)) & (data['Store']==store)]\n",
    "meansales=data17['Sales'].mean()\n",
    "meansales16=data16['Sales'].mean()\n",
    "#meansales\n",
    "#label=4400\n",
    "#inc=((label-meansales)/(label))*100\n",
    "#inc\n",
    "\n",
    "x=[meansales16,meansales,3000]\n",
    "y=[\"2016\",\"2017\",\"2018\"]\n",
    "plt.bar(x=y, height=x, width=0.8,align='center')\n"
   ]
  },
  {
   "cell_type": "code",
   "execution_count": 78,
   "metadata": {},
   "outputs": [
    {
     "data": {
      "text/plain": [
       "<Container object of 3 artists>"
      ]
     },
     "execution_count": 78,
     "metadata": {},
     "output_type": "execute_result"
    },
    {
     "data": {
      "image/png": "[encoded data removed]",
      "text/plain": [
       "<matplotlib.figure.Figure at 0x2c3867cf7f0>"
      ]
     },
     "metadata": {
      "needs_background": "light"
     },
     "output_type": "display_data"
    }
   ],
   "source": []
  }
 ],
 "metadata": {
  "kernelspec": {
   "display_name": "Python 3",
   "language": "python",
   "name": "python3"
  },
  "language_info": {
   "codemirror_mode": {
    "name": "ipython",
    "version": 3
   },
   "file_extension": ".py",
   "mimetype": "text/x-python",
   "name": "python",
   "nbconvert_exporter": "python",
   "pygments_lexer": "ipython3",
   "version": "3.6.4"
  }
 },
 "nbformat": 4,
 "nbformat_minor": 2
}
